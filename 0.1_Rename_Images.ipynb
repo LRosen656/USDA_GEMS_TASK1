{
 "cells": [
  {
   "cell_type": "markdown",
   "id": "1da918e1",
   "metadata": {},
   "source": [
    "# Renaming USDA Oat Images\n",
    "\n",
    "This notebook renames the images taken from an oat study over the summer of 2021. A for loop was used for each date directory to copy the image to a new date directory and labeled with the correct plot number and row. Date 7/22 was skipped because it just had soybean images. Date 7/8 was already labeled so it just needed to be copied. \n",
    "\n",
    "\n",
    "Lucas Rosen\n",
    "2/11/2022\n",
    "\n",
    "Update 2/16/2022\n",
    "\n",
    "Images formats are changed to tiffs. \n",
    "\n",
    "Update 4/24/2022\n",
    "\n",
    "Made all paths relative."
   ]
  },
  {
   "cell_type": "code",
   "execution_count": 1,
   "id": "beb55cbe",
   "metadata": {},
   "outputs": [],
   "source": [
    "import os\n",
    "import pandas as pd\n",
    "import glob\n",
    "import shutil\n"
   ]
  },
  {
   "cell_type": "code",
   "execution_count": 2,
   "id": "bfeb87ba",
   "metadata": {},
   "outputs": [
    {
     "name": "stdout",
     "output_type": "stream",
     "text": [
      "Skipping folder 7.22.2021...\n",
      "\n",
      "Done with 7.22.2021...\n",
      "\n",
      "Directory ./images_labeled/10.25.2021 is created...\n",
      "\n",
      "Working on images in 10.25.2021...\n",
      "\n",
      "Copied jpeg 101Alabel...\n",
      "\n",
      "Done with 10.25.2021...\n",
      "\n",
      "Directory ./images_labeled/7.8.2021 is created...\n",
      "\n",
      "Working in images in folder 7.8.2021...\n",
      "\n",
      "Done with folder 7.8.2021...\n",
      "\n",
      "Done with 7.8.2021...\n",
      "\n",
      "Directory ./images_labeled/8.21.2021 is created...\n",
      "\n",
      "Working on images in 8.21.2021...\n",
      "\n",
      "Done with 8.21.2021...\n",
      "\n",
      "Directory ./images_labeled/10.15.2021 is created...\n",
      "\n",
      "Working on images in 10.15.2021...\n",
      "\n",
      "Done with 10.15.2021...\n",
      "\n",
      "Directory ./images_labeled/9.9.2021 is created...\n",
      "\n",
      "Working on images in 9.9.2021...\n",
      "\n",
      "Done with 9.9.2021...\n",
      "\n",
      "Directory ./images_labeled/9.29.2021 is created...\n",
      "\n",
      "Working on images in 9.29.2021...\n",
      "\n",
      "Done with 9.29.2021...\n",
      "\n",
      "Directory ./images_labeled/10.05.2021 is created...\n",
      "\n",
      "Working on images in 10.05.2021...\n",
      "\n",
      "Done with 10.05.2021...\n",
      "\n",
      "All Folders done...\n",
      "\n",
      "Renaming images Complete!!!\n"
     ]
    }
   ],
   "source": [
    "count=0\n",
    "src_dir =  \"./images/\" ##Directory with all the image directories.\n",
    "if not os.path.exists(\"./images_labeled/\"):\n",
    "    os.mkdir(\"./images_labeled/\")\n",
    "new_dir = \"./images_labeled/\"     ##Directory the images will be copied. \n",
    "#os.chdir(src_dir)\n",
    "Plot_Order = pd.read_csv(src_dir + \"Plot_Order - Picture Order.csv\") ##Spreadsheet of the plot/row order\n",
    "for folder in glob.glob(src_dir + \"*1/\"): ##Everything in the current directiory\n",
    "    date = folder.split(\"\\\\\")[1]   ##Windows only\n",
    "    if date == \"7.22.2021\":                    ##Skipping Date with just soybeans  \n",
    "        print(\"Skipping folder \" + date + \"...\\n\")\n",
    "    else:\n",
    "        if not os.path.exists(new_dir + date): \n",
    "            os.mkdir(new_dir + date)\n",
    "            print(\"Directory \" + new_dir + date + \" is created...\\n\")\n",
    "        if date == \"7.8.2021\":                                         ##Date 7/8 is already labeled so I just need to copy it. \n",
    "            print(\"Working in images in folder \" + date + \"...\\n\")\n",
    "   \n",
    "            for jpeg in sorted(glob.glob(folder + \"*.jpg\")):\n",
    "                image = jpeg.split(\"\\\\\")[-1]                        ##Getting the image name\n",
    "                shutil.copyfile(jpeg, new_dir + date + \"/\" + image)\n",
    "            print(\"Done with folder \" + date + \"...\\n\")\n",
    "        else:\n",
    "            print(\"Working on images in \" + date + \"...\\n\")\n",
    "            #os.chdir(src_dir + folder)\n",
    "            for (jpeg, plot, row) in zip(sorted(glob.glob(folder + \"*.jpg\")), Plot_Order[\"plot\"], Plot_Order[\"row\"]):\n",
    "                shutil.copyfile(jpeg, new_dir + date + \"/\" + str(plot) + str(row.capitalize()) + \".jpg\") ##Copies image with correct name to new directory\n",
    "                if count % 42 ==0:\n",
    "                    print(\"Copied jpeg \" + str(plot) + str(row.capitalize()) + \"...\\n\")\n",
    "                    count = count + 1\n",
    "    print(\"Done with \" + date + \"...\\n\")\n",
    "\n",
    "print(\"All Folders done...\\n\")\n",
    "print(\"Renaming images Complete!!!\")\n",
    "\n"
   ]
  },
  {
   "cell_type": "markdown",
   "id": "516c7710",
   "metadata": {},
   "source": [
    "This notebook is complete. \n",
    "\n",
    "The next notebook will crop the images to the center."
   ]
  }
 ],
 "metadata": {
  "kernelspec": {
   "display_name": "Python 3 (ipykernel)",
   "language": "python",
   "name": "python3"
  },
  "language_info": {
   "codemirror_mode": {
    "name": "ipython",
    "version": 3
   },
   "file_extension": ".py",
   "mimetype": "text/x-python",
   "name": "python",
   "nbconvert_exporter": "python",
   "pygments_lexer": "ipython3",
   "version": "3.10.8"
  }
 },
 "nbformat": 4,
 "nbformat_minor": 5
}
