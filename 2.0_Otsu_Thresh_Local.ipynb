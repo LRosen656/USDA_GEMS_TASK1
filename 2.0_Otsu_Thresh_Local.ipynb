{
 "cells": [
  {
   "cell_type": "markdown",
   "metadata": {},
   "source": [
    "# Image Classification: Otsu's Method (Local)\n",
    "\n",
    "This notebook uses the vegetation indicies created in '1.0_Vegetation_Index.ipynb' and the dataframe created in '0.3_DataFrame_Mean_Green.ipynb' to classify images as vegetation or non-vegetation. First, the dataframe is uploaded and used to call the images in each vegetation index. Finally Otsu's Threshold from Scikit Image will be used to reclassify the images. \n",
    "\n",
    "-Luke Rosen\n",
    "\n",
    "5/4/2022 "
   ]
  },
  {
   "cell_type": "code",
   "execution_count": 1,
   "metadata": {},
   "outputs": [],
   "source": [
    "import os\n",
    "import matplotlib\n",
    "import matplotlib.pyplot as plt\n",
    "import numpy as np\n",
    "import glob\n",
    "import skimage\n",
    "from skimage.io import imread, imsave, imshow\n",
    "from skimage.filters import threshold_otsu\n",
    "from datetime import datetime\n",
    "import pandas as pd"
   ]
  },
  {
   "cell_type": "code",
   "execution_count": 2,
   "metadata": {},
   "outputs": [],
   "source": [
    "#Opening and moving old dataframe.\n",
    "Oat_Data = pd.read_csv(\"./Oat_Data.csv\")\n",
    "if not os.path.exists(\"./Archive\"):\n",
    "    os.mkdir(\"./Archive\")\n",
    "Oat_Data.to_csv(\"./Archive/Oat_Data_\" + str(datetime.today().month) + \"_\" + str(datetime.today().day) + \".csv\", index = False)\n"
   ]
  },
  {
   "cell_type": "markdown",
   "metadata": {},
   "source": [
    "## Defining  Local Threshold\n",
    "\n",
    "The next cell defines how the local threshold will be used. First, a new output will be made if it dosen't exist. Then Pandas dataframe will call the index image. Scikit Image will perform the threshold and Numpy will be used to reclassify the image. Finally, the classified image is saved to the new output and threshold number is appended to the dataframe.\n",
    "\n",
    "Scikit Images Otsu's Threshold outputs as number where anything greater than the number is classified as foreground (vegetation) and anything less than the threshold is classified as background (non-vegetation). To input this in the Numpy Matrix, Numpy uses the where clause to make a conditional statement. "
   ]
  },
  {
   "cell_type": "code",
   "execution_count": 3,
   "metadata": {},
   "outputs": [],
   "source": [
    "def Thresh_Local(Index = None, Image = None, Local_Thresh = []): \n",
    "    if not os.path.exists(\"./\" + str(Index) + \"/Thresh\"):             ##Creates path if doesn't exist\n",
    "        os.mkdir(\"./\" + Index + \"/Thresh\")\n",
    "        print(\"New directory is made...\\n\")\n",
    "    img = imread(\"./\" + str(Index) + \"/\" + str(Image) + \"_\" + str(Index) + \".tif\") #./index/image_index.tif\n",
    "    \n",
    "    output = str(Image) + \"_\" + str(Index)             \n",
    "    Thresh = threshold_otsu(img)                  ##Threshold (number)\n",
    "    classified = np.where(img>Thresh, 1, 0)       ##Reclassifies everything greater than thresh as 1 else zero\n",
    " \n",
    "\n",
    "    imsave(\"./\" + str(Index) + \"/Thresh/\" + output + \"_ThreshL.tif\", classified, check_contrast = False) ## Saving image\n",
    "    Local_Thresh.append(Thresh)                                                                   ## Collecting Threshold\n",
    "    \n",
    "    \n"
   ]
  },
  {
   "cell_type": "code",
   "execution_count": 4,
   "metadata": {},
   "outputs": [
    {
     "name": "stdout",
     "output_type": "stream",
     "text": [
      "Starting Local Threshold...\n",
      "\n",
      "Done with image 101A_20210708...\n",
      "\n",
      "Done with image 205A_20210708...\n",
      "\n",
      "Done with image 309A_20210708...\n",
      "\n",
      "Done with image 103A_20210821...\n",
      "\n",
      "Done with image 207A_20210821...\n",
      "\n",
      "Done with image 401A_20210821...\n",
      "\n",
      "Done with image 105A_20210909...\n",
      "\n",
      "Done with image 209A_20210909...\n",
      "\n",
      "Done with image 403A_20210909...\n",
      "\n",
      "Done with image 107A_20210929...\n",
      "\n",
      "Done with image 301A_20210929...\n",
      "\n",
      "Done with image 405A_20210929...\n",
      "\n",
      "Done with image 109A_20211005...\n",
      "\n",
      "Done with image 303A_20211005...\n",
      "\n",
      "Done with image 407A_20211005...\n",
      "\n",
      "Done with image 201A_20211015...\n",
      "\n",
      "Done with image 305A_20211015...\n",
      "\n",
      "Done with image 409A_20211015...\n",
      "\n",
      "Done with image 203A_20211025...\n",
      "\n",
      "Done with image 307A_20211025...\n",
      "\n",
      "Local Threshold Complete!!!\n"
     ]
    }
   ],
   "source": [
    "##Creating new columns and running theshold. \n",
    "EXG_Local_Thresh = []\n",
    "EXGR_Local_Thresh = []\n",
    "GLI_Local_Thresh = []\n",
    "VARI_Local_Thresh= []\n",
    "count = 0\n",
    "print(\"Starting Local Threshold...\\n\")\n",
    "for index, row in Oat_Data.iterrows():\n",
    "    image = str(row.Image) \n",
    "    Thresh_Local(\"EXG\", image, EXG_Local_Thresh)\n",
    "    Thresh_Local(\"EXGR\", image, EXGR_Local_Thresh)\n",
    "    Thresh_Local(\"GLI\", image, GLI_Local_Thresh)\n",
    "    Thresh_Local(\"VARI\", image, VARI_Local_Thresh)\n",
    "    if count % 42 == 0:\n",
    "        print(\"Done with image \" + str(image) + \"...\\n\")\n",
    "    count = count + 1\n",
    "print(\"Local Threshold Complete!!!\")\n",
    "\n"
   ]
  },
  {
   "cell_type": "code",
   "execution_count": 5,
   "metadata": {},
   "outputs": [],
   "source": [
    "##Updating and saving dataframe\n",
    "\n",
    "Oat_Data[\"EXG_Local_Thresh\"] = EXG_Local_Thresh\n",
    "Oat_Data[\"EXGR_Local_Thresh\"] = EXGR_Local_Thresh\n",
    "Oat_Data[\"GLI_Local_Thresh\"] = GLI_Local_Thresh\n",
    "Oat_Data[\"VARI_Local_Thresh\"] = VARI_Local_Thresh\n",
    "\n",
    "Oat_Data.to_csv(\"./Oat_Data.csv\", index = False)"
   ]
  },
  {
   "cell_type": "markdown",
   "metadata": {},
   "source": [
    "This notebook is complete. The next notebook will collect a global Otsu's Threshold for each index."
   ]
  }
 ],
 "metadata": {
  "kernelspec": {
   "display_name": "Python 3",
   "language": "python",
   "name": "python3"
  },
  "language_info": {
   "codemirror_mode": {
    "name": "ipython",
    "version": 3
   },
   "file_extension": ".py",
   "mimetype": "text/x-python",
   "name": "python",
   "nbconvert_exporter": "python",
   "pygments_lexer": "ipython3",
   "version": "3.7.4"
  }
 },
 "nbformat": 4,
 "nbformat_minor": 5
}
